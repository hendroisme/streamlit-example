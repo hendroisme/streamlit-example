{
 "cells": [
  {
   "cell_type": "code",
   "execution_count": 1,
   "id": "3c850e82",
   "metadata": {},
   "outputs": [],
   "source": [
    "import numpy as np\n",
    "import pandas as pd\n",
    "import seaborn as sns\n",
    "import random\n",
    "from sklearn.model_selection import train_test_split\n",
    "from sklearn.metrics import mean_squared_error,confusion_matrix,accuracy_score,recall_score,precision_score,classification_report,roc_auc_score\n",
    "import shap\n",
    "import catboost"
   ]
  },
  {
   "cell_type": "code",
   "execution_count": 2,
   "id": "3eb1dd48",
   "metadata": {},
   "outputs": [],
   "source": [
    "df2 = pd.read_excel(r'fraud.xlsx')"
   ]
  },
  {
   "cell_type": "code",
   "execution_count": null,
   "id": "8bbf97b9",
   "metadata": {},
   "outputs": [],
   "source": [
    "y  = df2['Class'].values\n",
    "X = df2.drop(['Class'],axis=1).values\n",
    "\n",
    "X_train, X_test, y_train, y_test = train_test_split(X, y, test_size=0.2)\n",
    "\n",
    "print(len(y_train), y_train.sum(),len(y_test), y_test.sum())\n",
    "print((X_train.shape), (y_train.shape), (X_test.shape), (y_test.shape))\n",
    "\n",
    "\n",
    "categorical_features = np.where(df2.drop(['Class'],axis=1).dtypes == np.object)[0]\n",
    "params = {\n",
    "          'learning_rate':0.1,\n",
    "          'cat_features':categorical_features,\n",
    "          'depth':6,\n",
    "          'eval_metric':'AUC',\n",
    "          'verbose':200,\n",
    "          'od_type':\"Iter\", # overfit detector\n",
    "          'od_wait':500, # most recent best iteration to wait before stopping\n",
    "          #'random_seed': 2,\n",
    "          #'n_estimators': 200\n",
    "          }\n",
    "\n",
    "\n",
    "cat_model = catboost.CatBoostClassifier(**params)\n",
    "cat_model.fit(X_train, y_train,   \n",
    "          eval_set=(X_test, y_test), \n",
    "          use_best_model=True, # True if we don't want to save trees created after iteration with the best validation score\n",
    "          plot=True  \n",
    "         );\n",
    "\n",
    "pred =  cat_model.predict(X_test)\n",
    "\n",
    "\n",
    "print(classification_report(y_test,pred))\n",
    "\n",
    "print('test-set confusion matrix:\\n') \n",
    "confusion_matrix_df = pd.DataFrame(confusion_matrix(y_test,pred))\n",
    "confusion_matrix_df.columns = ['Predicted 0','Predicted 1'] \n",
    "confusion_matrix_df.index = ['actual 0','actual 1'] \n",
    "print(confusion_matrix_df)"
   ]
  },
  {
   "cell_type": "code",
   "execution_count": null,
   "id": "dcc4cdd3",
   "metadata": {},
   "outputs": [],
   "source": [
    "cat_model.save_model('fraud')"
   ]
  },
  {
   "cell_type": "code",
   "execution_count": null,
   "id": "197d1c80",
   "metadata": {},
   "outputs": [],
   "source": [
    "explainer = shap.Explainer(cat_model)\n",
    "shap_values = explainer(X_test)\n",
    "\n",
    "shapvaluedf = pd.DataFrame(shap_values.values, columns= df2.drop(['Class'],axis=1).columns)\n",
    "shapdatadf = pd.DataFrame(shap_values.data, columns= df2.drop(['Class'],axis=1).columns)\n",
    "\n",
    "shapdatadf.to_excel(r'shapdatadf.xlsx')\n",
    "shapvaluedf.to_excel(r'shapvaluedf.xlsx')"
   ]
  }
 ],
 "metadata": {
  "kernelspec": {
   "display_name": "Python 3 (ipykernel)",
   "language": "python",
   "name": "python3"
  },
  "language_info": {
   "codemirror_mode": {
    "name": "ipython",
    "version": 3
   },
   "file_extension": ".py",
   "mimetype": "text/x-python",
   "name": "python",
   "nbconvert_exporter": "python",
   "pygments_lexer": "ipython3",
   "version": "3.9.7"
  },
  "toc": {
   "base_numbering": 1,
   "nav_menu": {},
   "number_sections": true,
   "sideBar": true,
   "skip_h1_title": false,
   "title_cell": "Table of Contents",
   "title_sidebar": "Contents",
   "toc_cell": false,
   "toc_position": {},
   "toc_section_display": true,
   "toc_window_display": false
  }
 },
 "nbformat": 4,
 "nbformat_minor": 5
}
